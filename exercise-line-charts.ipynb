{
 "cells": [
  {
   "cell_type": "markdown",
   "id": "e9aa99e1",
   "metadata": {
    "papermill": {
     "duration": 0.007933,
     "end_time": "2022-08-06T10:57:30.427015",
     "exception": false,
     "start_time": "2022-08-06T10:57:30.419082",
     "status": "completed"
    },
    "tags": []
   },
   "source": [
    "**This notebook is an exercise in the [Data Visualization](https://www.kaggle.com/learn/data-visualization) course.  You can reference the tutorial at [this link](https://www.kaggle.com/alexisbcook/line-charts).**\n",
    "\n",
    "---\n"
   ]
  },
  {
   "cell_type": "markdown",
   "id": "09115c6e",
   "metadata": {
    "papermill": {
     "duration": 0.005179,
     "end_time": "2022-08-06T10:57:30.437942",
     "exception": false,
     "start_time": "2022-08-06T10:57:30.432763",
     "status": "completed"
    },
    "tags": []
   },
   "source": [
    "In this exercise, you will use your new knowledge to propose a solution to a real-world scenario. To succeed, you will need to import data into Python, answer questions using the data, and generate **line charts** to understand patterns in the data.\n",
    "\n",
    "## Scenario\n",
    "\n",
    "You have recently been hired to manage the museums in the City of Los Angeles. Your first project focuses on the four museums pictured in the images below.\n",
    "\n",
    "![ex1_museums](https://i.imgur.com/pFYL8J1.png)\n",
    "\n",
    "You will leverage data from the Los Angeles [Data Portal](https://data.lacity.org/) that tracks monthly visitors to each museum.  \n",
    "\n",
    "![ex1_xlsx](https://i.imgur.com/mGWYlym.png)\n",
    "\n",
    "## Setup\n",
    "\n",
    "Run the next cell to import and configure the Python libraries that you need to complete the exercise."
   ]
  },
  {
   "cell_type": "code",
   "execution_count": 1,
   "id": "e122b9c0",
   "metadata": {
    "execution": {
     "iopub.execute_input": "2022-08-06T10:57:30.451036Z",
     "iopub.status.busy": "2022-08-06T10:57:30.450425Z",
     "iopub.status.idle": "2022-08-06T10:57:31.718970Z",
     "shell.execute_reply": "2022-08-06T10:57:31.717318Z"
    },
    "papermill": {
     "duration": 1.278962,
     "end_time": "2022-08-06T10:57:31.722460",
     "exception": false,
     "start_time": "2022-08-06T10:57:30.443498",
     "status": "completed"
    },
    "tags": []
   },
   "outputs": [
    {
     "name": "stdout",
     "output_type": "stream",
     "text": [
      "Setup Complete\n"
     ]
    }
   ],
   "source": [
    "import pandas as pd\n",
    "pd.plotting.register_matplotlib_converters()\n",
    "import matplotlib.pyplot as plt\n",
    "%matplotlib inline\n",
    "import seaborn as sns\n",
    "print(\"Setup Complete\")"
   ]
  },
  {
   "cell_type": "markdown",
   "id": "289ab70d",
   "metadata": {
    "papermill": {
     "duration": 0.005413,
     "end_time": "2022-08-06T10:57:31.733902",
     "exception": false,
     "start_time": "2022-08-06T10:57:31.728489",
     "status": "completed"
    },
    "tags": []
   },
   "source": [
    "The questions below will give you feedback on your work. Run the following cell to set up the feedback system."
   ]
  },
  {
   "cell_type": "code",
   "execution_count": 2,
   "id": "36e53aea",
   "metadata": {
    "execution": {
     "iopub.execute_input": "2022-08-06T10:57:31.747781Z",
     "iopub.status.busy": "2022-08-06T10:57:31.747337Z",
     "iopub.status.idle": "2022-08-06T10:57:31.819015Z",
     "shell.execute_reply": "2022-08-06T10:57:31.817437Z"
    },
    "papermill": {
     "duration": 0.082554,
     "end_time": "2022-08-06T10:57:31.822048",
     "exception": false,
     "start_time": "2022-08-06T10:57:31.739494",
     "status": "completed"
    },
    "tags": []
   },
   "outputs": [
    {
     "name": "stdout",
     "output_type": "stream",
     "text": [
      "Setup Complete\n"
     ]
    }
   ],
   "source": [
    "# Set up code checking\n",
    "import os\n",
    "if not os.path.exists(\"../input/museum_visitors.csv\"):\n",
    "    os.symlink(\"../input/data-for-datavis/museum_visitors.csv\", \"../input/museum_visitors.csv\") \n",
    "from learntools.core import binder\n",
    "binder.bind(globals())\n",
    "from learntools.data_viz_to_coder.ex2 import *\n",
    "print(\"Setup Complete\")"
   ]
  },
  {
   "cell_type": "markdown",
   "id": "65e3a1f4",
   "metadata": {
    "papermill": {
     "duration": 0.005433,
     "end_time": "2022-08-06T10:57:31.833466",
     "exception": false,
     "start_time": "2022-08-06T10:57:31.828033",
     "status": "completed"
    },
    "tags": []
   },
   "source": [
    "## Step 1: Load the data\n",
    "\n",
    "Your first assignment is to read the LA Museum Visitors data file into `museum_data`.  Note that:\n",
    "- The filepath to the dataset is stored as `museum_filepath`.  Please **do not** change the provided value of the filepath.\n",
    "- The name of the column to use as row labels is `\"Date\"`.  (This can be seen in cell A1 when the file is opened in Excel.)\n",
    "\n",
    "To help with this, you may find it useful to revisit some relevant code from the tutorial, which we have pasted below:\n",
    "\n",
    "```python\n",
    "# Path of the file to read\n",
    "spotify_filepath = \"../input/spotify.csv\"\n",
    "\n",
    "# Read the file into a variable spotify_data\n",
    "spotify_data = pd.read_csv(spotify_filepath, index_col=\"Date\", parse_dates=True)\n",
    "```\n",
    "\n",
    "The code you need to write now looks very similar!"
   ]
  },
  {
   "cell_type": "code",
   "execution_count": 3,
   "id": "52b18dfb",
   "metadata": {
    "execution": {
     "iopub.execute_input": "2022-08-06T10:57:31.847818Z",
     "iopub.status.busy": "2022-08-06T10:57:31.847401Z",
     "iopub.status.idle": "2022-08-06T10:57:31.863394Z",
     "shell.execute_reply": "2022-08-06T10:57:31.862614Z"
    },
    "papermill": {
     "duration": 0.026703,
     "end_time": "2022-08-06T10:57:31.865847",
     "exception": false,
     "start_time": "2022-08-06T10:57:31.839144",
     "status": "completed"
    },
    "tags": []
   },
   "outputs": [
    {
     "data": {
      "application/javascript": [
       "parent.postMessage({\"jupyterEvent\": \"custom.exercise_interaction\", \"data\": {\"outcomeType\": 1, \"valueTowardsCompletion\": 0.3333333333333333, \"interactionType\": 1, \"questionType\": 1, \"questionId\": \"1_LoadMuseumData\", \"learnToolsVersion\": \"0.3.4\", \"failureMessage\": \"\", \"exceptionClass\": \"\", \"trace\": \"\"}}, \"*\")"
      ],
      "text/plain": [
       "<IPython.core.display.Javascript object>"
      ]
     },
     "metadata": {},
     "output_type": "display_data"
    },
    {
     "data": {
      "text/markdown": [
       "<span style=\"color:#33cc33\">Correct</span>"
      ],
      "text/plain": [
       "Correct"
      ]
     },
     "metadata": {},
     "output_type": "display_data"
    }
   ],
   "source": [
    "# Path of the file to read\n",
    "museum_filepath = \"../input/museum_visitors.csv\"\n",
    "\n",
    "# Fill in the line below to read the file into a variable museum_data\n",
    "museum_data = pd.read_csv(\"../input/museum_visitors.csv\" , index_col='Date' , parse_dates=True)\n",
    "\n",
    "# Run the line below with no changes to check that you've loaded the data correctly\n",
    "step_1.check()"
   ]
  },
  {
   "cell_type": "code",
   "execution_count": 4,
   "id": "f55e975a",
   "metadata": {
    "execution": {
     "iopub.execute_input": "2022-08-06T10:57:31.882249Z",
     "iopub.status.busy": "2022-08-06T10:57:31.881519Z",
     "iopub.status.idle": "2022-08-06T10:57:31.886882Z",
     "shell.execute_reply": "2022-08-06T10:57:31.885488Z"
    },
    "papermill": {
     "duration": 0.016138,
     "end_time": "2022-08-06T10:57:31.889335",
     "exception": false,
     "start_time": "2022-08-06T10:57:31.873197",
     "status": "completed"
    },
    "tags": []
   },
   "outputs": [],
   "source": [
    "# Uncomment the line below to receive a hint\n",
    "#step_1.hint()\n",
    "# Uncomment the line below to see the solution\n",
    "#step_1.solution()"
   ]
  },
  {
   "cell_type": "markdown",
   "id": "5a88510b",
   "metadata": {
    "papermill": {
     "duration": 0.005766,
     "end_time": "2022-08-06T10:57:31.901408",
     "exception": false,
     "start_time": "2022-08-06T10:57:31.895642",
     "status": "completed"
    },
    "tags": []
   },
   "source": [
    "## Step 2: Review the data\n",
    "\n",
    "Use a Python command to print the last 5 rows of the data."
   ]
  },
  {
   "cell_type": "code",
   "execution_count": 5,
   "id": "6cac1ac8",
   "metadata": {
    "execution": {
     "iopub.execute_input": "2022-08-06T10:57:31.915208Z",
     "iopub.status.busy": "2022-08-06T10:57:31.914811Z",
     "iopub.status.idle": "2022-08-06T10:57:31.932272Z",
     "shell.execute_reply": "2022-08-06T10:57:31.930685Z"
    },
    "papermill": {
     "duration": 0.027917,
     "end_time": "2022-08-06T10:57:31.935328",
     "exception": false,
     "start_time": "2022-08-06T10:57:31.907411",
     "status": "completed"
    },
    "tags": []
   },
   "outputs": [
    {
     "data": {
      "text/html": [
       "<div>\n",
       "<style scoped>\n",
       "    .dataframe tbody tr th:only-of-type {\n",
       "        vertical-align: middle;\n",
       "    }\n",
       "\n",
       "    .dataframe tbody tr th {\n",
       "        vertical-align: top;\n",
       "    }\n",
       "\n",
       "    .dataframe thead th {\n",
       "        text-align: right;\n",
       "    }\n",
       "</style>\n",
       "<table border=\"1\" class=\"dataframe\">\n",
       "  <thead>\n",
       "    <tr style=\"text-align: right;\">\n",
       "      <th></th>\n",
       "      <th>Avila Adobe</th>\n",
       "      <th>Firehouse Museum</th>\n",
       "      <th>Chinese American Museum</th>\n",
       "      <th>America Tropical Interpretive Center</th>\n",
       "    </tr>\n",
       "    <tr>\n",
       "      <th>Date</th>\n",
       "      <th></th>\n",
       "      <th></th>\n",
       "      <th></th>\n",
       "      <th></th>\n",
       "    </tr>\n",
       "  </thead>\n",
       "  <tbody>\n",
       "    <tr>\n",
       "      <th>2018-07-01</th>\n",
       "      <td>23136</td>\n",
       "      <td>4191</td>\n",
       "      <td>2620</td>\n",
       "      <td>4718</td>\n",
       "    </tr>\n",
       "    <tr>\n",
       "      <th>2018-08-01</th>\n",
       "      <td>20815</td>\n",
       "      <td>4866</td>\n",
       "      <td>2409</td>\n",
       "      <td>3891</td>\n",
       "    </tr>\n",
       "    <tr>\n",
       "      <th>2018-09-01</th>\n",
       "      <td>21020</td>\n",
       "      <td>4956</td>\n",
       "      <td>2146</td>\n",
       "      <td>3180</td>\n",
       "    </tr>\n",
       "    <tr>\n",
       "      <th>2018-10-01</th>\n",
       "      <td>19280</td>\n",
       "      <td>4622</td>\n",
       "      <td>2364</td>\n",
       "      <td>3775</td>\n",
       "    </tr>\n",
       "    <tr>\n",
       "      <th>2018-11-01</th>\n",
       "      <td>17163</td>\n",
       "      <td>4082</td>\n",
       "      <td>2385</td>\n",
       "      <td>4562</td>\n",
       "    </tr>\n",
       "  </tbody>\n",
       "</table>\n",
       "</div>"
      ],
      "text/plain": [
       "            Avila Adobe  Firehouse Museum  Chinese American Museum  \\\n",
       "Date                                                                 \n",
       "2018-07-01        23136              4191                     2620   \n",
       "2018-08-01        20815              4866                     2409   \n",
       "2018-09-01        21020              4956                     2146   \n",
       "2018-10-01        19280              4622                     2364   \n",
       "2018-11-01        17163              4082                     2385   \n",
       "\n",
       "            America Tropical Interpretive Center  \n",
       "Date                                              \n",
       "2018-07-01                                  4718  \n",
       "2018-08-01                                  3891  \n",
       "2018-09-01                                  3180  \n",
       "2018-10-01                                  3775  \n",
       "2018-11-01                                  4562  "
      ]
     },
     "execution_count": 5,
     "metadata": {},
     "output_type": "execute_result"
    }
   ],
   "source": [
    "# Print the last five rows of the data \n",
    "museum_data.tail(5) # Your code here"
   ]
  },
  {
   "cell_type": "markdown",
   "id": "a8c6a1c7",
   "metadata": {
    "papermill": {
     "duration": 0.006426,
     "end_time": "2022-08-06T10:57:31.948772",
     "exception": false,
     "start_time": "2022-08-06T10:57:31.942346",
     "status": "completed"
    },
    "tags": []
   },
   "source": [
    "The last row (for `2018-11-01`) tracks the number of visitors to each museum in November 2018, the next-to-last row (for `2018-10-01`) tracks the number of visitors to each museum in October 2018, _and so on_.\n",
    "\n",
    "Use the last 5 rows of the data to answer the questions below."
   ]
  },
  {
   "cell_type": "code",
   "execution_count": 6,
   "id": "19e37a0e",
   "metadata": {
    "execution": {
     "iopub.execute_input": "2022-08-06T10:57:31.964164Z",
     "iopub.status.busy": "2022-08-06T10:57:31.963124Z",
     "iopub.status.idle": "2022-08-06T10:57:31.973294Z",
     "shell.execute_reply": "2022-08-06T10:57:31.972360Z"
    },
    "papermill": {
     "duration": 0.020053,
     "end_time": "2022-08-06T10:57:31.975503",
     "exception": false,
     "start_time": "2022-08-06T10:57:31.955450",
     "status": "completed"
    },
    "tags": []
   },
   "outputs": [
    {
     "data": {
      "application/javascript": [
       "parent.postMessage({\"jupyterEvent\": \"custom.exercise_interaction\", \"data\": {\"outcomeType\": 1, \"valueTowardsCompletion\": 0.3333333333333333, \"interactionType\": 1, \"questionType\": 1, \"questionId\": \"2_ReviewData\", \"learnToolsVersion\": \"0.3.4\", \"failureMessage\": \"\", \"exceptionClass\": \"\", \"trace\": \"\"}}, \"*\")"
      ],
      "text/plain": [
       "<IPython.core.display.Javascript object>"
      ]
     },
     "metadata": {},
     "output_type": "display_data"
    },
    {
     "data": {
      "text/markdown": [
       "<span style=\"color:#33cc33\">Correct</span>"
      ],
      "text/plain": [
       "Correct"
      ]
     },
     "metadata": {},
     "output_type": "display_data"
    }
   ],
   "source": [
    "# Fill in the line below: How many visitors did the Chinese American Museum \n",
    "# receive in July 2018?\n",
    "ca_museum_jul18 = 2620\n",
    "# Fill in the line below: In October 2018, how many more visitors did Avila \n",
    "# Adobe receive than the Firehouse Museum?\n",
    "avila_oct18 = 14658\n",
    "\n",
    "# Check your answers\n",
    "step_2.check()"
   ]
  },
  {
   "cell_type": "code",
   "execution_count": 7,
   "id": "fb7ef32c",
   "metadata": {
    "execution": {
     "iopub.execute_input": "2022-08-06T10:57:31.990883Z",
     "iopub.status.busy": "2022-08-06T10:57:31.990051Z",
     "iopub.status.idle": "2022-08-06T10:57:31.994477Z",
     "shell.execute_reply": "2022-08-06T10:57:31.993557Z"
    },
    "papermill": {
     "duration": 0.014865,
     "end_time": "2022-08-06T10:57:31.996791",
     "exception": false,
     "start_time": "2022-08-06T10:57:31.981926",
     "status": "completed"
    },
    "tags": []
   },
   "outputs": [],
   "source": [
    "# Lines below will give you a hint or solution code\n",
    "#step_2.hint()\n",
    "#step_2.solution()"
   ]
  },
  {
   "cell_type": "markdown",
   "id": "9a52bae0",
   "metadata": {
    "papermill": {
     "duration": 0.006144,
     "end_time": "2022-08-06T10:57:32.009887",
     "exception": false,
     "start_time": "2022-08-06T10:57:32.003743",
     "status": "completed"
    },
    "tags": []
   },
   "source": [
    "## Step 3: Convince the museum board \n",
    "\n",
    "The Firehouse Museum claims they ran an event in 2014 that brought an incredible number of visitors, and that they should get extra budget to run a similar event again.  The other museums think these types of events aren't that important, and budgets should be split purely based on recent visitors on an average day.  \n",
    "\n",
    "To show the museum board how the event compared to regular traffic at each museum, create a line chart that shows how the number of visitors to each museum evolved over time.  Your figure should have four lines (one for each museum).\n",
    "\n",
    "> **(Optional) Note**: If you have some prior experience with plotting figures in Python, you might be familiar with the `plt.show()` command.  If you decide to use this command, please place it **after** the line of code that checks your answer (in this case, place it after `step_3.check()` below) -- otherwise, the checking code will return an error!"
   ]
  },
  {
   "cell_type": "code",
   "execution_count": 8,
   "id": "ec3570f7",
   "metadata": {
    "execution": {
     "iopub.execute_input": "2022-08-06T10:57:32.026202Z",
     "iopub.status.busy": "2022-08-06T10:57:32.025141Z",
     "iopub.status.idle": "2022-08-06T10:57:32.423774Z",
     "shell.execute_reply": "2022-08-06T10:57:32.422493Z"
    },
    "papermill": {
     "duration": 0.409414,
     "end_time": "2022-08-06T10:57:32.426488",
     "exception": false,
     "start_time": "2022-08-06T10:57:32.017074",
     "status": "completed"
    },
    "tags": []
   },
   "outputs": [
    {
     "data": {
      "application/javascript": [
       "parent.postMessage({\"jupyterEvent\": \"custom.exercise_interaction\", \"data\": {\"outcomeType\": 1, \"valueTowardsCompletion\": 0.3333333333333333, \"interactionType\": 1, \"questionType\": 2, \"questionId\": \"3_PlotAll\", \"learnToolsVersion\": \"0.3.4\", \"failureMessage\": \"\", \"exceptionClass\": \"\", \"trace\": \"\"}}, \"*\")"
      ],
      "text/plain": [
       "<IPython.core.display.Javascript object>"
      ]
     },
     "metadata": {},
     "output_type": "display_data"
    },
    {
     "data": {
      "text/markdown": [
       "<span style=\"color:#33cc33\">Correct</span>"
      ],
      "text/plain": [
       "Correct"
      ]
     },
     "metadata": {},
     "output_type": "display_data"
    },
    {
     "data": {
      "image/png": "[encoded data removed]",
      "text/plain": [
       "<Figure size 936x504 with 1 Axes>"
      ]
     },
     "metadata": {
      "needs_background": "light"
     },
     "output_type": "display_data"
    }
   ],
   "source": [
    "# Line chart showing the number of visitors to each museum over time\n",
    "plt.figure(figsize=(13,7))\n",
    "sns.lineplot(data=museum_data)\n",
    "plt.title('number of visitors to each museum over time')# Your code here\n",
    "\n",
    "# Check your answer\n",
    "step_3.check()"
   ]
  },
  {
   "cell_type": "code",
   "execution_count": 9,
   "id": "b59d631a",
   "metadata": {
    "execution": {
     "iopub.execute_input": "2022-08-06T10:57:32.444375Z",
     "iopub.status.busy": "2022-08-06T10:57:32.443422Z",
     "iopub.status.idle": "2022-08-06T10:57:32.448232Z",
     "shell.execute_reply": "2022-08-06T10:57:32.447355Z"
    },
    "papermill": {
     "duration": 0.016139,
     "end_time": "2022-08-06T10:57:32.450487",
     "exception": false,
     "start_time": "2022-08-06T10:57:32.434348",
     "status": "completed"
    },
    "tags": []
   },
   "outputs": [],
   "source": [
    "# Lines below will give you a hint or solution code\n",
    "#step_3.hint()\n",
    "#step_3.solution_plot()"
   ]
  },
  {
   "cell_type": "markdown",
   "id": "40c87b46",
   "metadata": {
    "papermill": {
     "duration": 0.007373,
     "end_time": "2022-08-06T10:57:32.465777",
     "exception": false,
     "start_time": "2022-08-06T10:57:32.458404",
     "status": "completed"
    },
    "tags": []
   },
   "source": [
    "## Step 4: Assess seasonality\n",
    "\n",
    "When meeting with the employees at Avila Adobe, you hear that one major pain point is that the number of museum visitors varies greatly with the seasons, with low seasons (when the employees are perfectly staffed and happy) and also high seasons (when the employees are understaffed and stressed).  You realize that if you can predict these high and low seasons, you can plan ahead to hire some additional seasonal employees to help out with the extra work.\n",
    "\n",
    "#### Part A\n",
    "Create a line chart that shows how the number of visitors to Avila Adobe has evolved over time.  (_If your code returns an error, the first thing that you should check is that you've spelled the name of the column correctly!  You must write the name of the column exactly as it appears in the dataset._)"
   ]
  },
  {
   "cell_type": "code",
   "execution_count": 10,
   "id": "be2b9f21",
   "metadata": {
    "execution": {
     "iopub.execute_input": "2022-08-06T10:57:32.484124Z",
     "iopub.status.busy": "2022-08-06T10:57:32.483170Z",
     "iopub.status.idle": "2022-08-06T10:57:32.715656Z",
     "shell.execute_reply": "2022-08-06T10:57:32.714625Z"
    },
    "papermill": {
     "duration": 0.244181,
     "end_time": "2022-08-06T10:57:32.718019",
     "exception": false,
     "start_time": "2022-08-06T10:57:32.473838",
     "status": "completed"
    },
    "tags": []
   },
   "outputs": [
    {
     "name": "stdout",
     "output_type": "stream",
     "text": [
      "Thank you for creating a line chart!  To see how your code compares to the official solution, please use the code cell below.\n"
     ]
    },
    {
     "data": {
      "application/javascript": [
       "parent.postMessage({\"jupyterEvent\": \"custom.exercise_interaction\", \"data\": {\"outcomeType\": 1, \"valueTowardsCompletion\": 0.3333333333333333, \"interactionType\": 1, \"questionType\": 2, \"questionId\": \"4.1_PlotAvila\", \"learnToolsVersion\": \"0.3.4\", \"failureMessage\": \"\", \"exceptionClass\": \"\", \"trace\": \"\"}}, \"*\")"
      ],
      "text/plain": [
       "<IPython.core.display.Javascript object>"
      ]
     },
     "metadata": {},
     "output_type": "display_data"
    },
    {
     "data": {
      "text/markdown": [
       "<span style=\"color:#33cc33\">Correct</span>"
      ],
      "text/plain": [
       "Correct"
      ]
     },
     "metadata": {},
     "output_type": "display_data"
    },
    {
     "data": {
      "image/png": "[encoded data removed]",
      "text/plain": [
       "<Figure size 936x504 with 1 Axes>"
      ]
     },
     "metadata": {
      "needs_background": "light"
     },
     "output_type": "display_data"
    }
   ],
   "source": [
    "# Line plot showing the number of visitors to Avila Adobe over time\n",
    "plt.figure(figsize=(13,7))\n",
    "sns.lineplot(data=museum_data['Avila Adobe']) # Your code here\n",
    "plt.xlabel(\"Date\")\n",
    "# Check your answer\n",
    "step_4.a.check()"
   ]
  },
  {
   "cell_type": "code",
   "execution_count": 11,
   "id": "093e48d8",
   "metadata": {
    "execution": {
     "iopub.execute_input": "2022-08-06T10:57:32.739595Z",
     "iopub.status.busy": "2022-08-06T10:57:32.738396Z",
     "iopub.status.idle": "2022-08-06T10:57:32.743987Z",
     "shell.execute_reply": "2022-08-06T10:57:32.742833Z"
    },
    "papermill": {
     "duration": 0.019111,
     "end_time": "2022-08-06T10:57:32.747207",
     "exception": false,
     "start_time": "2022-08-06T10:57:32.728096",
     "status": "completed"
    },
    "tags": []
   },
   "outputs": [],
   "source": [
    "# Lines below will give you a hint or solution code\n",
    "#step_4.a.hint()\n",
    "#step_4.a.solution_plot()"
   ]
  },
  {
   "cell_type": "markdown",
   "id": "aae1f91b",
   "metadata": {
    "papermill": {
     "duration": 0.008485,
     "end_time": "2022-08-06T10:57:32.764593",
     "exception": false,
     "start_time": "2022-08-06T10:57:32.756108",
     "status": "completed"
    },
    "tags": []
   },
   "source": [
    "#### Part B\n",
    "\n",
    "Does Avila Adobe get more visitors:\n",
    "- in September-February (in LA, the fall and winter months), or \n",
    "- in March-August (in LA, the spring and summer)?  \n",
    "\n",
    "Using this information, when should the museum staff additional seasonal employees?"
   ]
  },
  {
   "cell_type": "code",
   "execution_count": 12,
   "id": "901fbfc8",
   "metadata": {
    "execution": {
     "iopub.execute_input": "2022-08-06T10:57:32.785062Z",
     "iopub.status.busy": "2022-08-06T10:57:32.784321Z",
     "iopub.status.idle": "2022-08-06T10:57:32.790658Z",
     "shell.execute_reply": "2022-08-06T10:57:32.789715Z"
    },
    "papermill": {
     "duration": 0.01959,
     "end_time": "2022-08-06T10:57:32.793341",
     "exception": false,
     "start_time": "2022-08-06T10:57:32.773751",
     "status": "completed"
    },
    "tags": []
   },
   "outputs": [],
   "source": [
    "#step_4.b.hint()"
   ]
  },
  {
   "cell_type": "code",
   "execution_count": 13,
   "id": "3bd17c6f",
   "metadata": {
    "execution": {
     "iopub.execute_input": "2022-08-06T10:57:32.813872Z",
     "iopub.status.busy": "2022-08-06T10:57:32.812694Z",
     "iopub.status.idle": "2022-08-06T10:57:32.818050Z",
     "shell.execute_reply": "2022-08-06T10:57:32.817205Z"
    },
    "papermill": {
     "duration": 0.018052,
     "end_time": "2022-08-06T10:57:32.820504",
     "exception": false,
     "start_time": "2022-08-06T10:57:32.802452",
     "status": "completed"
    },
    "tags": []
   },
   "outputs": [],
   "source": [
    "# Check your answer (Run this code cell to receive credit!)\n",
    "#step_4.b.solution()"
   ]
  },
  {
   "cell_type": "markdown",
   "id": "88518d7f",
   "metadata": {
    "papermill": {
     "duration": 0.008567,
     "end_time": "2022-08-06T10:57:32.838056",
     "exception": false,
     "start_time": "2022-08-06T10:57:32.829489",
     "status": "completed"
    },
    "tags": []
   },
   "source": [
    "# Keep going\n",
    "\n",
    "Move on to learn about **[bar charts and heatmaps](https://www.kaggle.com/alexisbcook/bar-charts-and-heatmaps)** with a new dataset!"
   ]
  },
  {
   "cell_type": "markdown",
   "id": "f9720ee0",
   "metadata": {
    "papermill": {
     "duration": 0.008455,
     "end_time": "2022-08-06T10:57:32.855265",
     "exception": false,
     "start_time": "2022-08-06T10:57:32.846810",
     "status": "completed"
    },
    "tags": []
   },
   "source": [
    "---\n",
    "\n",
    "\n",
    "\n",
    "\n",
    "*Have questions or comments? Visit the [course discussion forum](https://www.kaggle.com/learn/data-visualization/discussion) to chat with other learners.*"
   ]
  }
 ],
 "metadata": {
  "kernelspec": {
   "display_name": "Python 3",
   "language": "python",
   "name": "python3"
  },
  "language_info": {
   "codemirror_mode": {
    "name": "ipython",
    "version": 3
   },
   "file_extension": ".py",
   "mimetype": "text/x-python",
   "name": "python",
   "nbconvert_exporter": "python",
   "pygments_lexer": "ipython3",
   "version": "3.7.12"
  },
  "papermill": {
   "default_parameters": {},
   "duration": 13.569047,
   "end_time": "2022-08-06T10:57:33.587715",
   "environment_variables": {},
   "exception": null,
   "input_path": "__notebook__.ipynb",
   "output_path": "__notebook__.ipynb",
   "parameters": {},
   "start_time": "2022-08-06T10:57:20.018668",
   "version": "2.3.4"
  }
 },
 "nbformat": 4,
 "nbformat_minor": 5
}
