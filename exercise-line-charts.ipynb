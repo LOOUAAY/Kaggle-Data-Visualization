{
 "cells": [
  {
   "cell_type": "markdown",
   "id": "fcfa06fe",
   "metadata": {
    "papermill": {
     "duration": 0.006853,
     "end_time": "2022-08-06T11:00:49.218728",
     "exception": false,
     "start_time": "2022-08-06T11:00:49.211875",
     "status": "completed"
    },
    "tags": []
   },
   "source": [
    "**This notebook is an exercise in the [Data Visualization](https://www.kaggle.com/learn/data-visualization) course.  You can reference the tutorial at [this link](https://www.kaggle.com/alexisbcook/line-charts).**\n",
    "\n",
    "---\n"
   ]
  },
  {
   "cell_type": "markdown",
   "id": "13726c85",
   "metadata": {
    "papermill": {
     "duration": 0.005412,
     "end_time": "2022-08-06T11:00:49.230442",
     "exception": false,
     "start_time": "2022-08-06T11:00:49.225030",
     "status": "completed"
    },
    "tags": []
   },
   "source": [
    "In this exercise, you will use your new knowledge to propose a solution to a real-world scenario. To succeed, you will need to import data into Python, answer questions using the data, and generate **line charts** to understand patterns in the data.\n",
    "\n",
    "## Scenario\n",
    "\n",
    "You have recently been hired to manage the museums in the City of Los Angeles. Your first project focuses on the four museums pictured in the images below.\n",
    "\n",
    "![ex1_museums](https://i.imgur.com/pFYL8J1.png)\n",
    "\n",
    "You will leverage data from the Los Angeles [Data Portal](https://data.lacity.org/) that tracks monthly visitors to each museum.  \n",
    "\n",
    "![ex1_xlsx](https://i.imgur.com/mGWYlym.png)\n",
    "\n",
    "## Setup\n",
    "\n",
    "Run the next cell to import and configure the Python libraries that you need to complete the exercise."
   ]
  },
  {
   "cell_type": "code",
   "execution_count": 1,
   "id": "354cc243",
   "metadata": {
    "execution": {
     "iopub.execute_input": "2022-08-06T11:00:49.245249Z",
     "iopub.status.busy": "2022-08-06T11:00:49.244706Z",
     "iopub.status.idle": "2022-08-06T11:00:50.500788Z",
     "shell.execute_reply": "2022-08-06T11:00:50.499372Z"
    },
    "papermill": {
     "duration": 1.267917,
     "end_time": "2022-08-06T11:00:50.504174",
     "exception": false,
     "start_time": "2022-08-06T11:00:49.236257",
     "status": "completed"
    },
    "tags": []
   },
   "outputs": [
    {
     "name": "stdout",
     "output_type": "stream",
     "text": [
      "Setup Complete\n"
     ]
    }
   ],
   "source": [
    "import pandas as pd\n",
    "pd.plotting.register_matplotlib_converters()\n",
    "import matplotlib.pyplot as plt\n",
    "%matplotlib inline\n",
    "import seaborn as sns\n",
    "print(\"Setup Complete\")"
   ]
  },
  {
   "cell_type": "markdown",
   "id": "82ba1063",
   "metadata": {
    "papermill": {
     "duration": 0.005455,
     "end_time": "2022-08-06T11:00:50.515377",
     "exception": false,
     "start_time": "2022-08-06T11:00:50.509922",
     "status": "completed"
    },
    "tags": []
   },
   "source": [
    "The questions below will give you feedback on your work. Run the following cell to set up the feedback system."
   ]
  },
  {
   "cell_type": "code",
   "execution_count": 2,
   "id": "5f06b610",
   "metadata": {
    "execution": {
     "iopub.execute_input": "2022-08-06T11:00:50.529071Z",
     "iopub.status.busy": "2022-08-06T11:00:50.528333Z",
     "iopub.status.idle": "2022-08-06T11:00:50.598539Z",
     "shell.execute_reply": "2022-08-06T11:00:50.597378Z"
    },
    "papermill": {
     "duration": 0.080748,
     "end_time": "2022-08-06T11:00:50.601876",
     "exception": false,
     "start_time": "2022-08-06T11:00:50.521128",
     "status": "completed"
    },
    "tags": []
   },
   "outputs": [
    {
     "name": "stdout",
     "output_type": "stream",
     "text": [
      "Setup Complete\n"
     ]
    }
   ],
   "source": [
    "# Set up code checking\n",
    "import os\n",
    "if not os.path.exists(\"../input/museum_visitors.csv\"):\n",
    "    os.symlink(\"../input/data-for-datavis/museum_visitors.csv\", \"../input/museum_visitors.csv\") \n",
    "from learntools.core import binder\n",
    "binder.bind(globals())\n",
    "from learntools.data_viz_to_coder.ex2 import *\n",
    "print(\"Setup Complete\")"
   ]
  },
  {
   "cell_type": "markdown",
   "id": "231df301",
   "metadata": {
    "papermill": {
     "duration": 0.005525,
     "end_time": "2022-08-06T11:00:50.613349",
     "exception": false,
     "start_time": "2022-08-06T11:00:50.607824",
     "status": "completed"
    },
    "tags": []
   },
   "source": [
    "## Step 1: Load the data\n",
    "\n",
    "Your first assignment is to read the LA Museum Visitors data file into `museum_data`.  Note that:\n",
    "- The filepath to the dataset is stored as `museum_filepath`.  Please **do not** change the provided value of the filepath.\n",
    "- The name of the column to use as row labels is `\"Date\"`.  (This can be seen in cell A1 when the file is opened in Excel.)\n",
    "\n",
    "To help with this, you may find it useful to revisit some relevant code from the tutorial, which we have pasted below:\n",
    "\n",
    "```python\n",
    "# Path of the file to read\n",
    "spotify_filepath = \"../input/spotify.csv\"\n",
    "\n",
    "# Read the file into a variable spotify_data\n",
    "spotify_data = pd.read_csv(spotify_filepath, index_col=\"Date\", parse_dates=True)\n",
    "```\n",
    "\n",
    "The code you need to write now looks very similar!"
   ]
  },
  {
   "cell_type": "code",
   "execution_count": 3,
   "id": "2f4b316f",
   "metadata": {
    "execution": {
     "iopub.execute_input": "2022-08-06T11:00:50.627008Z",
     "iopub.status.busy": "2022-08-06T11:00:50.626264Z",
     "iopub.status.idle": "2022-08-06T11:00:50.643767Z",
     "shell.execute_reply": "2022-08-06T11:00:50.642580Z"
    },
    "papermill": {
     "duration": 0.027171,
     "end_time": "2022-08-06T11:00:50.646163",
     "exception": false,
     "start_time": "2022-08-06T11:00:50.618992",
     "status": "completed"
    },
    "tags": []
   },
   "outputs": [
    {
     "data": {
      "application/javascript": [
       "parent.postMessage({\"jupyterEvent\": \"custom.exercise_interaction\", \"data\": {\"outcomeType\": 1, \"valueTowardsCompletion\": 0.3333333333333333, \"interactionType\": 1, \"questionType\": 1, \"questionId\": \"1_LoadMuseumData\", \"learnToolsVersion\": \"0.3.4\", \"failureMessage\": \"\", \"exceptionClass\": \"\", \"trace\": \"\"}}, \"*\")"
      ],
      "text/plain": [
       "<IPython.core.display.Javascript object>"
      ]
     },
     "metadata": {},
     "output_type": "display_data"
    },
    {
     "data": {
      "text/markdown": [
       "<span style=\"color:#33cc33\">Correct</span>"
      ],
      "text/plain": [
       "Correct"
      ]
     },
     "metadata": {},
     "output_type": "display_data"
    }
   ],
   "source": [
    "# Path of the file to read\n",
    "museum_filepath = \"../input/museum_visitors.csv\"\n",
    "\n",
    "# Fill in the line below to read the file into a variable museum_data\n",
    "museum_data = pd.read_csv(\"../input/museum_visitors.csv\" , index_col='Date' , parse_dates=True)\n",
    "\n",
    "# Run the line below with no changes to check that you've loaded the data correctly\n",
    "step_1.check()"
   ]
  },
  {
   "cell_type": "code",
   "execution_count": 4,
   "id": "34cdccb7",
   "metadata": {
    "execution": {
     "iopub.execute_input": "2022-08-06T11:00:50.659902Z",
     "iopub.status.busy": "2022-08-06T11:00:50.659258Z",
     "iopub.status.idle": "2022-08-06T11:00:50.664467Z",
     "shell.execute_reply": "2022-08-06T11:00:50.663141Z"
    },
    "papermill": {
     "duration": 0.014746,
     "end_time": "2022-08-06T11:00:50.666687",
     "exception": false,
     "start_time": "2022-08-06T11:00:50.651941",
     "status": "completed"
    },
    "tags": []
   },
   "outputs": [],
   "source": [
    "# Uncomment the line below to receive a hint\n",
    "#step_1.hint()\n",
    "# Uncomment the line below to see the solution\n",
    "#step_1.solution()"
   ]
  },
  {
   "cell_type": "markdown",
   "id": "1c239644",
   "metadata": {
    "papermill": {
     "duration": 0.005542,
     "end_time": "2022-08-06T11:00:50.678225",
     "exception": false,
     "start_time": "2022-08-06T11:00:50.672683",
     "status": "completed"
    },
    "tags": []
   },
   "source": [
    "## Step 2: Review the data\n",
    "\n",
    "Use a Python command to print the last 5 rows of the data."
   ]
  },
  {
   "cell_type": "code",
   "execution_count": 5,
   "id": "e0101984",
   "metadata": {
    "execution": {
     "iopub.execute_input": "2022-08-06T11:00:50.692230Z",
     "iopub.status.busy": "2022-08-06T11:00:50.691082Z",
     "iopub.status.idle": "2022-08-06T11:00:50.705605Z",
     "shell.execute_reply": "2022-08-06T11:00:50.704772Z"
    },
    "papermill": {
     "duration": 0.023765,
     "end_time": "2022-08-06T11:00:50.707746",
     "exception": false,
     "start_time": "2022-08-06T11:00:50.683981",
     "status": "completed"
    },
    "tags": []
   },
   "outputs": [
    {
     "data": {
      "text/html": [
       "<div>\n",
       "<style scoped>\n",
       "    .dataframe tbody tr th:only-of-type {\n",
       "        vertical-align: middle;\n",
       "    }\n",
       "\n",
       "    .dataframe tbody tr th {\n",
       "        vertical-align: top;\n",
       "    }\n",
       "\n",
       "    .dataframe thead th {\n",
       "        text-align: right;\n",
       "    }\n",
       "</style>\n",
       "<table border=\"1\" class=\"dataframe\">\n",
       "  <thead>\n",
       "    <tr style=\"text-align: right;\">\n",
       "      <th></th>\n",
       "      <th>Avila Adobe</th>\n",
       "      <th>Firehouse Museum</th>\n",
       "      <th>Chinese American Museum</th>\n",
       "      <th>America Tropical Interpretive Center</th>\n",
       "    </tr>\n",
       "    <tr>\n",
       "      <th>Date</th>\n",
       "      <th></th>\n",
       "      <th></th>\n",
       "      <th></th>\n",
       "      <th></th>\n",
       "    </tr>\n",
       "  </thead>\n",
       "  <tbody>\n",
       "    <tr>\n",
       "      <th>2018-07-01</th>\n",
       "      <td>23136</td>\n",
       "      <td>4191</td>\n",
       "      <td>2620</td>\n",
       "      <td>4718</td>\n",
       "    </tr>\n",
       "    <tr>\n",
       "      <th>2018-08-01</th>\n",
       "      <td>20815</td>\n",
       "      <td>4866</td>\n",
       "      <td>2409</td>\n",
       "      <td>3891</td>\n",
       "    </tr>\n",
       "    <tr>\n",
       "      <th>2018-09-01</th>\n",
       "      <td>21020</td>\n",
       "      <td>4956</td>\n",
       "      <td>2146</td>\n",
       "      <td>3180</td>\n",
       "    </tr>\n",
       "    <tr>\n",
       "      <th>2018-10-01</th>\n",
       "      <td>19280</td>\n",
       "      <td>4622</td>\n",
       "      <td>2364</td>\n",
       "      <td>3775</td>\n",
       "    </tr>\n",
       "    <tr>\n",
       "      <th>2018-11-01</th>\n",
       "      <td>17163</td>\n",
       "      <td>4082</td>\n",
       "      <td>2385</td>\n",
       "      <td>4562</td>\n",
       "    </tr>\n",
       "  </tbody>\n",
       "</table>\n",
       "</div>"
      ],
      "text/plain": [
       "            Avila Adobe  Firehouse Museum  Chinese American Museum  \\\n",
       "Date                                                                 \n",
       "2018-07-01        23136              4191                     2620   \n",
       "2018-08-01        20815              4866                     2409   \n",
       "2018-09-01        21020              4956                     2146   \n",
       "2018-10-01        19280              4622                     2364   \n",
       "2018-11-01        17163              4082                     2385   \n",
       "\n",
       "            America Tropical Interpretive Center  \n",
       "Date                                              \n",
       "2018-07-01                                  4718  \n",
       "2018-08-01                                  3891  \n",
       "2018-09-01                                  3180  \n",
       "2018-10-01                                  3775  \n",
       "2018-11-01                                  4562  "
      ]
     },
     "execution_count": 5,
     "metadata": {},
     "output_type": "execute_result"
    }
   ],
   "source": [
    "# Print the last five rows of the data \n",
    "museum_data.tail(5) # Your code here"
   ]
  },
  {
   "cell_type": "markdown",
   "id": "05b23340",
   "metadata": {
    "papermill": {
     "duration": 0.005716,
     "end_time": "2022-08-06T11:00:50.719604",
     "exception": false,
     "start_time": "2022-08-06T11:00:50.713888",
     "status": "completed"
    },
    "tags": []
   },
   "source": [
    "The last row (for `2018-11-01`) tracks the number of visitors to each museum in November 2018, the next-to-last row (for `2018-10-01`) tracks the number of visitors to each museum in October 2018, _and so on_.\n",
    "\n",
    "Use the last 5 rows of the data to answer the questions below."
   ]
  },
  {
   "cell_type": "code",
   "execution_count": 6,
   "id": "22908eaa",
   "metadata": {
    "execution": {
     "iopub.execute_input": "2022-08-06T11:00:50.734061Z",
     "iopub.status.busy": "2022-08-06T11:00:50.733440Z",
     "iopub.status.idle": "2022-08-06T11:00:50.741824Z",
     "shell.execute_reply": "2022-08-06T11:00:50.740701Z"
    },
    "papermill": {
     "duration": 0.018829,
     "end_time": "2022-08-06T11:00:50.744445",
     "exception": false,
     "start_time": "2022-08-06T11:00:50.725616",
     "status": "completed"
    },
    "tags": []
   },
   "outputs": [
    {
     "data": {
      "application/javascript": [
       "parent.postMessage({\"jupyterEvent\": \"custom.exercise_interaction\", \"data\": {\"outcomeType\": 1, \"valueTowardsCompletion\": 0.3333333333333333, \"interactionType\": 1, \"questionType\": 1, \"questionId\": \"2_ReviewData\", \"learnToolsVersion\": \"0.3.4\", \"failureMessage\": \"\", \"exceptionClass\": \"\", \"trace\": \"\"}}, \"*\")"
      ],
      "text/plain": [
       "<IPython.core.display.Javascript object>"
      ]
     },
     "metadata": {},
     "output_type": "display_data"
    },
    {
     "data": {
      "text/markdown": [
       "<span style=\"color:#33cc33\">Correct</span>"
      ],
      "text/plain": [
       "Correct"
      ]
     },
     "metadata": {},
     "output_type": "display_data"
    }
   ],
   "source": [
    "# Fill in the line below: How many visitors did the Chinese American Museum \n",
    "# receive in July 2018?\n",
    "ca_museum_jul18 = 2620\n",
    "# Fill in the line below: In October 2018, how many more visitors did Avila \n",
    "# Adobe receive than the Firehouse Museum?\n",
    "avila_oct18 = 14658\n",
    "\n",
    "# Check your answers\n",
    "step_2.check()"
   ]
  },
  {
   "cell_type": "code",
   "execution_count": 7,
   "id": "7b512f86",
   "metadata": {
    "execution": {
     "iopub.execute_input": "2022-08-06T11:00:50.759842Z",
     "iopub.status.busy": "2022-08-06T11:00:50.759438Z",
     "iopub.status.idle": "2022-08-06T11:00:50.764136Z",
     "shell.execute_reply": "2022-08-06T11:00:50.762809Z"
    },
    "papermill": {
     "duration": 0.015123,
     "end_time": "2022-08-06T11:00:50.766512",
     "exception": false,
     "start_time": "2022-08-06T11:00:50.751389",
     "status": "completed"
    },
    "tags": []
   },
   "outputs": [],
   "source": [
    "# Lines below will give you a hint or solution code\n",
    "#step_2.hint()\n",
    "#step_2.solution()"
   ]
  },
  {
   "cell_type": "markdown",
   "id": "d653a930",
   "metadata": {
    "papermill": {
     "duration": 0.006121,
     "end_time": "2022-08-06T11:00:50.778995",
     "exception": false,
     "start_time": "2022-08-06T11:00:50.772874",
     "status": "completed"
    },
    "tags": []
   },
   "source": [
    "## Step 3: Convince the museum board \n",
    "\n",
    "The Firehouse Museum claims they ran an event in 2014 that brought an incredible number of visitors, and that they should get extra budget to run a similar event again.  The other museums think these types of events aren't that important, and budgets should be split purely based on recent visitors on an average day.  \n",
    "\n",
    "To show the museum board how the event compared to regular traffic at each museum, create a line chart that shows how the number of visitors to each museum evolved over time.  Your figure should have four lines (one for each museum).\n",
    "\n",
    "> **(Optional) Note**: If you have some prior experience with plotting figures in Python, you might be familiar with the `plt.show()` command.  If you decide to use this command, please place it **after** the line of code that checks your answer (in this case, place it after `step_3.check()` below) -- otherwise, the checking code will return an error!"
   ]
  },
  {
   "cell_type": "code",
   "execution_count": 8,
   "id": "d9dc63cb",
   "metadata": {
    "execution": {
     "iopub.execute_input": "2022-08-06T11:00:50.794579Z",
     "iopub.status.busy": "2022-08-06T11:00:50.794148Z",
     "iopub.status.idle": "2022-08-06T11:00:51.203899Z",
     "shell.execute_reply": "2022-08-06T11:00:51.202803Z"
    },
    "papermill": {
     "duration": 0.420538,
     "end_time": "2022-08-06T11:00:51.206726",
     "exception": false,
     "start_time": "2022-08-06T11:00:50.786188",
     "status": "completed"
    },
    "tags": []
   },
   "outputs": [
    {
     "data": {
      "application/javascript": [
       "parent.postMessage({\"jupyterEvent\": \"custom.exercise_interaction\", \"data\": {\"outcomeType\": 1, \"valueTowardsCompletion\": 0.3333333333333333, \"interactionType\": 1, \"questionType\": 2, \"questionId\": \"3_PlotAll\", \"learnToolsVersion\": \"0.3.4\", \"failureMessage\": \"\", \"exceptionClass\": \"\", \"trace\": \"\"}}, \"*\")"
      ],
      "text/plain": [
       "<IPython.core.display.Javascript object>"
      ]
     },
     "metadata": {},
     "output_type": "display_data"
    },
    {
     "data": {
      "text/markdown": [
       "<span style=\"color:#33cc33\">Correct</span>"
      ],
      "text/plain": [
       "Correct"
      ]
     },
     "metadata": {},
     "output_type": "display_data"
    },
    {
     "data": {
      "image/png": "[encoded data removed]",
      "text/plain": [
       "<Figure size 936x504 with 1 Axes>"
      ]
     },
     "metadata": {
      "needs_background": "light"
     },
     "output_type": "display_data"
    }
   ],
   "source": [
    "# Line chart showing the number of visitors to each museum over time\n",
    "plt.figure(figsize=(13,7))\n",
    "sns.lineplot(data=museum_data)\n",
    "plt.title(\"Monthly Visitors to Los Angeles City Museums\")\n",
    "\n",
    "# Check your answer\n",
    "step_3.check()"
   ]
  },
  {
   "cell_type": "code",
   "execution_count": 9,
   "id": "63ecaad7",
   "metadata": {
    "execution": {
     "iopub.execute_input": "2022-08-06T11:00:51.224676Z",
     "iopub.status.busy": "2022-08-06T11:00:51.224282Z",
     "iopub.status.idle": "2022-08-06T11:00:51.229418Z",
     "shell.execute_reply": "2022-08-06T11:00:51.228232Z"
    },
    "papermill": {
     "duration": 0.017138,
     "end_time": "2022-08-06T11:00:51.232121",
     "exception": false,
     "start_time": "2022-08-06T11:00:51.214983",
     "status": "completed"
    },
    "tags": []
   },
   "outputs": [],
   "source": [
    "# Lines below will give you a hint or solution code\n",
    "#step_3.hint() \n",
    "#step_3.solution_plot()"
   ]
  },
  {
   "cell_type": "markdown",
   "id": "012bbba4",
   "metadata": {
    "papermill": {
     "duration": 0.007557,
     "end_time": "2022-08-06T11:00:51.247669",
     "exception": false,
     "start_time": "2022-08-06T11:00:51.240112",
     "status": "completed"
    },
    "tags": []
   },
   "source": [
    "## Step 4: Assess seasonality\n",
    "\n",
    "When meeting with the employees at Avila Adobe, you hear that one major pain point is that the number of museum visitors varies greatly with the seasons, with low seasons (when the employees are perfectly staffed and happy) and also high seasons (when the employees are understaffed and stressed).  You realize that if you can predict these high and low seasons, you can plan ahead to hire some additional seasonal employees to help out with the extra work.\n",
    "\n",
    "#### Part A\n",
    "Create a line chart that shows how the number of visitors to Avila Adobe has evolved over time.  (_If your code returns an error, the first thing that you should check is that you've spelled the name of the column correctly!  You must write the name of the column exactly as it appears in the dataset._)"
   ]
  },
  {
   "cell_type": "code",
   "execution_count": 10,
   "id": "1973e908",
   "metadata": {
    "execution": {
     "iopub.execute_input": "2022-08-06T11:00:51.265905Z",
     "iopub.status.busy": "2022-08-06T11:00:51.264828Z",
     "iopub.status.idle": "2022-08-06T11:00:51.505148Z",
     "shell.execute_reply": "2022-08-06T11:00:51.503494Z"
    },
    "papermill": {
     "duration": 0.253138,
     "end_time": "2022-08-06T11:00:51.508545",
     "exception": false,
     "start_time": "2022-08-06T11:00:51.255407",
     "status": "completed"
    },
    "tags": []
   },
   "outputs": [
    {
     "name": "stdout",
     "output_type": "stream",
     "text": [
      "Thank you for creating a line chart!  To see how your code compares to the official solution, please use the code cell below.\n"
     ]
    },
    {
     "data": {
      "application/javascript": [
       "parent.postMessage({\"jupyterEvent\": \"custom.exercise_interaction\", \"data\": {\"outcomeType\": 1, \"valueTowardsCompletion\": 0.3333333333333333, \"interactionType\": 1, \"questionType\": 2, \"questionId\": \"4.1_PlotAvila\", \"learnToolsVersion\": \"0.3.4\", \"failureMessage\": \"\", \"exceptionClass\": \"\", \"trace\": \"\"}}, \"*\")"
      ],
      "text/plain": [
       "<IPython.core.display.Javascript object>"
      ]
     },
     "metadata": {},
     "output_type": "display_data"
    },
    {
     "data": {
      "text/markdown": [
       "<span style=\"color:#33cc33\">Correct</span>"
      ],
      "text/plain": [
       "Correct"
      ]
     },
     "metadata": {},
     "output_type": "display_data"
    },
    {
     "data": {
      "image/png": "[encoded data removed]",
      "text/plain": [
       "<Figure size 936x504 with 1 Axes>"
      ]
     },
     "metadata": {
      "needs_background": "light"
     },
     "output_type": "display_data"
    }
   ],
   "source": [
    "# Line plot showing the number of visitors to Avila Adobe over time\n",
    "plt.figure(figsize=(13,7))\n",
    "\n",
    "sns.lineplot(data=museum_data['Avila Adobe']) \n",
    "plt.title(\"Monthly Visitors to Avila Adobe\")\n",
    "plt.xlabel(\"Date\")\n",
    "# Check your answer\n",
    "step_4.a.check()"
   ]
  },
  {
   "cell_type": "code",
   "execution_count": 11,
   "id": "4a887f3f",
   "metadata": {
    "execution": {
     "iopub.execute_input": "2022-08-06T11:00:51.529421Z",
     "iopub.status.busy": "2022-08-06T11:00:51.529006Z",
     "iopub.status.idle": "2022-08-06T11:00:51.533659Z",
     "shell.execute_reply": "2022-08-06T11:00:51.532443Z"
    },
    "papermill": {
     "duration": 0.017357,
     "end_time": "2022-08-06T11:00:51.535781",
     "exception": false,
     "start_time": "2022-08-06T11:00:51.518424",
     "status": "completed"
    },
    "tags": []
   },
   "outputs": [],
   "source": [
    "# Lines below will give you a hint or solution code\n",
    "#step_4.a.hint()\n",
    "#step_4.a.solution_plot()"
   ]
  },
  {
   "cell_type": "markdown",
   "id": "2aef9df2",
   "metadata": {
    "papermill": {
     "duration": 0.009372,
     "end_time": "2022-08-06T11:00:51.554148",
     "exception": false,
     "start_time": "2022-08-06T11:00:51.544776",
     "status": "completed"
    },
    "tags": []
   },
   "source": [
    "#### Part B\n",
    "\n",
    "Does Avila Adobe get more visitors:\n",
    "- in September-February (in LA, the fall and winter months), or \n",
    "- in March-August (in LA, the spring and summer)?  \n",
    "\n",
    "Using this information, when should the museum staff additional seasonal employees?"
   ]
  },
  {
   "cell_type": "code",
   "execution_count": 12,
   "id": "b3d019d3",
   "metadata": {
    "execution": {
     "iopub.execute_input": "2022-08-06T11:00:51.575181Z",
     "iopub.status.busy": "2022-08-06T11:00:51.574152Z",
     "iopub.status.idle": "2022-08-06T11:00:51.579787Z",
     "shell.execute_reply": "2022-08-06T11:00:51.578633Z"
    },
    "papermill": {
     "duration": 0.019111,
     "end_time": "2022-08-06T11:00:51.582404",
     "exception": false,
     "start_time": "2022-08-06T11:00:51.563293",
     "status": "completed"
    },
    "tags": []
   },
   "outputs": [],
   "source": [
    "#step_4.b.hint()"
   ]
  },
  {
   "cell_type": "code",
   "execution_count": 13,
   "id": "8fa54ff5",
   "metadata": {
    "execution": {
     "iopub.execute_input": "2022-08-06T11:00:51.603056Z",
     "iopub.status.busy": "2022-08-06T11:00:51.602274Z",
     "iopub.status.idle": "2022-08-06T11:00:51.611241Z",
     "shell.execute_reply": "2022-08-06T11:00:51.610132Z"
    },
    "papermill": {
     "duration": 0.021975,
     "end_time": "2022-08-06T11:00:51.613692",
     "exception": false,
     "start_time": "2022-08-06T11:00:51.591717",
     "status": "completed"
    },
    "tags": []
   },
   "outputs": [
    {
     "data": {
      "application/javascript": [
       "parent.postMessage({\"jupyterEvent\": \"custom.exercise_interaction\", \"data\": {\"interactionType\": 3, \"questionType\": 4, \"questionId\": \"4.2_ThinkAvila\", \"learnToolsVersion\": \"0.3.4\", \"valueTowardsCompletion\": 0.0, \"failureMessage\": \"\", \"exceptionClass\": \"\", \"trace\": \"\", \"outcomeType\": 4}}, \"*\")"
      ],
      "text/plain": [
       "<IPython.core.display.Javascript object>"
      ]
     },
     "metadata": {},
     "output_type": "display_data"
    },
    {
     "data": {
      "text/markdown": [
       "<span style=\"color:#33cc99\">Solution:</span> The line chart generally dips to relatively low values around the early part of each year (in December and January), and reaches its highest values in the middle of the year (especially around May and June).  Thus, Avila Adobe usually gets more visitors in March-August (or the spring and summer months).  With this in mind, Avila Adobe could definitely benefit from hiring more seasonal employees to help with the extra work in March-August (the spring and summer)!"
      ],
      "text/plain": [
       "Solution: The line chart generally dips to relatively low values around the early part of each year (in December and January), and reaches its highest values in the middle of the year (especially around May and June).  Thus, Avila Adobe usually gets more visitors in March-August (or the spring and summer months).  With this in mind, Avila Adobe could definitely benefit from hiring more seasonal employees to help with the extra work in March-August (the spring and summer)!"
      ]
     },
     "metadata": {},
     "output_type": "display_data"
    }
   ],
   "source": [
    "# Check your answer (Run this code cell to receive credit!)\n",
    "step_4.b.solution()"
   ]
  },
  {
   "cell_type": "markdown",
   "id": "9be4890b",
   "metadata": {
    "papermill": {
     "duration": 0.008908,
     "end_time": "2022-08-06T11:00:51.632612",
     "exception": false,
     "start_time": "2022-08-06T11:00:51.623704",
     "status": "completed"
    },
    "tags": []
   },
   "source": [
    "# Keep going\n",
    "\n",
    "Move on to learn about **[bar charts and heatmaps](https://www.kaggle.com/alexisbcook/bar-charts-and-heatmaps)** with a new dataset!"
   ]
  },
  {
   "cell_type": "markdown",
   "id": "3744359d",
   "metadata": {
    "papermill": {
     "duration": 0.008891,
     "end_time": "2022-08-06T11:00:51.650750",
     "exception": false,
     "start_time": "2022-08-06T11:00:51.641859",
     "status": "completed"
    },
    "tags": []
   },
   "source": [
    "---\n",
    "\n",
    "\n",
    "\n",
    "\n",
    "*Have questions or comments? Visit the [course discussion forum](https://www.kaggle.com/learn/data-visualization/discussion) to chat with other learners.*"
   ]
  }
 ],
 "metadata": {
  "kernelspec": {
   "display_name": "Python 3",
   "language": "python",
   "name": "python3"
  },
  "language_info": {
   "codemirror_mode": {
    "name": "ipython",
    "version": 3
   },
   "file_extension": ".py",
   "mimetype": "text/x-python",
   "name": "python",
   "nbconvert_exporter": "python",
   "pygments_lexer": "ipython3",
   "version": "3.7.12"
  },
  "papermill": {
   "default_parameters": {},
   "duration": 13.528606,
   "end_time": "2022-08-06T11:00:52.384024",
   "environment_variables": {},
   "exception": null,
   "input_path": "__notebook__.ipynb",
   "output_path": "__notebook__.ipynb",
   "parameters": {},
   "start_time": "2022-08-06T11:00:38.855418",
   "version": "2.3.4"
  }
 },
 "nbformat": 4,
 "nbformat_minor": 5
}
